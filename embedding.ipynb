{
 "cells": [
  {
   "cell_type": "code",
   "execution_count": 29,
   "metadata": {},
   "outputs": [],
   "source": [
    "from tensorflow.keras.preprocessing.text import one_hot\n"
   ]
  },
  {
   "cell_type": "code",
   "execution_count": 30,
   "metadata": {},
   "outputs": [],
   "source": [
    "## sentences\n",
    "sent = [\n",
    "    \"The glass of milk\",\n",
    "    \"The glass of juice\",\n",
    "    \"hey i went there again\",\n",
    "    \"I love playing cricket\",\n",
    "    \"Do you think its good ?\"\n",
    "]"
   ]
  },
  {
   "cell_type": "code",
   "execution_count": 31,
   "metadata": {},
   "outputs": [],
   "source": [
    "vocab_size = 10000"
   ]
  },
  {
   "cell_type": "code",
   "execution_count": 32,
   "metadata": {},
   "outputs": [],
   "source": [
    "one_hot_repr = [one_hot(line,vocabulary_size) for line in sent]"
   ]
  },
  {
   "cell_type": "code",
   "execution_count": null,
   "metadata": {},
   "outputs": [],
   "source": []
  },
  {
   "cell_type": "code",
   "execution_count": 33,
   "metadata": {},
   "outputs": [],
   "source": [
    "## Word Embedding Representation\n",
    "\n",
    "from tensorflow.keras.layers import Embedding\n",
    "from tensorflow.keras.utils import pad_sequences\n",
    "from tensorflow.keras.models import Sequential"
   ]
  },
  {
   "cell_type": "code",
   "execution_count": 34,
   "metadata": {},
   "outputs": [],
   "source": [
    "import numpy as np\n",
    "import pandas as pd"
   ]
  },
  {
   "cell_type": "code",
   "execution_count": 35,
   "metadata": {},
   "outputs": [
    {
     "name": "stdout",
     "output_type": "stream",
     "text": [
      "[[   0    0    0    0 7009 1544 6983  639]\n",
      " [   0    0    0    0 7009 1544 6983 3256]\n",
      " [   0    0    0 5862 6072 3147 6076 2297]\n",
      " [   0    0    0    0 6072 3672 2009 6779]\n",
      " [   0    0    0 5965 5368 6574 4518 2367]]\n"
     ]
    }
   ],
   "source": [
    "sent_length = 8\n",
    "embedded_docs = pad_sequences(one_hot_repr,padding=\"pre\",maxlen=sent_length)\n",
    "print(embedded_docs)"
   ]
  },
  {
   "cell_type": "code",
   "execution_count": 36,
   "metadata": {},
   "outputs": [],
   "source": [
    "dim=10"
   ]
  },
  {
   "cell_type": "code",
   "execution_count": 37,
   "metadata": {},
   "outputs": [],
   "source": [
    "from tensorflow.keras.layers import Flatten,Dense"
   ]
  },
  {
   "cell_type": "code",
   "execution_count": 42,
   "metadata": {},
   "outputs": [],
   "source": [
    "model = Sequential()\n",
    "model.add(Embedding(input_dim=vocab_size,output_dim=dim,input_length=sent_length))\n",
    "model.compile(\"adam\",\"mse\")"
   ]
  },
  {
   "cell_type": "code",
   "execution_count": 43,
   "metadata": {},
   "outputs": [
    {
     "data": {
      "text/html": [
       "<pre style=\"white-space:pre;overflow-x:auto;line-height:normal;font-family:Menlo,'DejaVu Sans Mono',consolas,'Courier New',monospace\"><span style=\"font-weight: bold\">Model: \"sequential_11\"</span>\n",
       "</pre>\n"
      ],
      "text/plain": [
       "\u001b[1mModel: \"sequential_11\"\u001b[0m\n"
      ]
     },
     "metadata": {},
     "output_type": "display_data"
    },
    {
     "data": {
      "text/html": [
       "<pre style=\"white-space:pre;overflow-x:auto;line-height:normal;font-family:Menlo,'DejaVu Sans Mono',consolas,'Courier New',monospace\">┏━━━━━━━━━━━━━━━━━━━━━━━━━━━━━━━━━┳━━━━━━━━━━━━━━━━━━━━━━━━┳━━━━━━━━━━━━━━━┓\n",
       "┃<span style=\"font-weight: bold\"> Layer (type)                    </span>┃<span style=\"font-weight: bold\"> Output Shape           </span>┃<span style=\"font-weight: bold\">       Param # </span>┃\n",
       "┡━━━━━━━━━━━━━━━━━━━━━━━━━━━━━━━━━╇━━━━━━━━━━━━━━━━━━━━━━━━╇━━━━━━━━━━━━━━━┩\n",
       "│ embedding_11 (<span style=\"color: #0087ff; text-decoration-color: #0087ff\">Embedding</span>)        │ ?                      │   <span style=\"color: #00af00; text-decoration-color: #00af00\">0</span> (unbuilt) │\n",
       "└─────────────────────────────────┴────────────────────────┴───────────────┘\n",
       "</pre>\n"
      ],
      "text/plain": [
       "┏━━━━━━━━━━━━━━━━━━━━━━━━━━━━━━━━━┳━━━━━━━━━━━━━━━━━━━━━━━━┳━━━━━━━━━━━━━━━┓\n",
       "┃\u001b[1m \u001b[0m\u001b[1mLayer (type)                   \u001b[0m\u001b[1m \u001b[0m┃\u001b[1m \u001b[0m\u001b[1mOutput Shape          \u001b[0m\u001b[1m \u001b[0m┃\u001b[1m \u001b[0m\u001b[1m      Param #\u001b[0m\u001b[1m \u001b[0m┃\n",
       "┡━━━━━━━━━━━━━━━━━━━━━━━━━━━━━━━━━╇━━━━━━━━━━━━━━━━━━━━━━━━╇━━━━━━━━━━━━━━━┩\n",
       "│ embedding_11 (\u001b[38;5;33mEmbedding\u001b[0m)        │ ?                      │   \u001b[38;5;34m0\u001b[0m (unbuilt) │\n",
       "└─────────────────────────────────┴────────────────────────┴───────────────┘\n"
      ]
     },
     "metadata": {},
     "output_type": "display_data"
    },
    {
     "data": {
      "text/html": [
       "<pre style=\"white-space:pre;overflow-x:auto;line-height:normal;font-family:Menlo,'DejaVu Sans Mono',consolas,'Courier New',monospace\"><span style=\"font-weight: bold\"> Total params: </span><span style=\"color: #00af00; text-decoration-color: #00af00\">0</span> (0.00 B)\n",
       "</pre>\n"
      ],
      "text/plain": [
       "\u001b[1m Total params: \u001b[0m\u001b[38;5;34m0\u001b[0m (0.00 B)\n"
      ]
     },
     "metadata": {},
     "output_type": "display_data"
    },
    {
     "data": {
      "text/html": [
       "<pre style=\"white-space:pre;overflow-x:auto;line-height:normal;font-family:Menlo,'DejaVu Sans Mono',consolas,'Courier New',monospace\"><span style=\"font-weight: bold\"> Trainable params: </span><span style=\"color: #00af00; text-decoration-color: #00af00\">0</span> (0.00 B)\n",
       "</pre>\n"
      ],
      "text/plain": [
       "\u001b[1m Trainable params: \u001b[0m\u001b[38;5;34m0\u001b[0m (0.00 B)\n"
      ]
     },
     "metadata": {},
     "output_type": "display_data"
    },
    {
     "data": {
      "text/html": [
       "<pre style=\"white-space:pre;overflow-x:auto;line-height:normal;font-family:Menlo,'DejaVu Sans Mono',consolas,'Courier New',monospace\"><span style=\"font-weight: bold\"> Non-trainable params: </span><span style=\"color: #00af00; text-decoration-color: #00af00\">0</span> (0.00 B)\n",
       "</pre>\n"
      ],
      "text/plain": [
       "\u001b[1m Non-trainable params: \u001b[0m\u001b[38;5;34m0\u001b[0m (0.00 B)\n"
      ]
     },
     "metadata": {},
     "output_type": "display_data"
    }
   ],
   "source": [
    "model.summary()"
   ]
  },
  {
   "cell_type": "code",
   "execution_count": 44,
   "metadata": {},
   "outputs": [
    {
     "name": "stdout",
     "output_type": "stream",
     "text": [
      "\u001b[1m1/1\u001b[0m \u001b[32m━━━━━━━━━━━━━━━━━━━━\u001b[0m\u001b[37m\u001b[0m \u001b[1m0s\u001b[0m 383ms/step\n"
     ]
    },
    {
     "data": {
      "text/plain": [
       "array([[[-0.0321364 ,  0.00057731, -0.01805557, -0.04920933,\n",
       "          0.01568611,  0.03373951,  0.02451613, -0.00145912,\n",
       "         -0.00233524,  0.02100506],\n",
       "        [-0.0321364 ,  0.00057731, -0.01805557, -0.04920933,\n",
       "          0.01568611,  0.03373951,  0.02451613, -0.00145912,\n",
       "         -0.00233524,  0.02100506],\n",
       "        [-0.0321364 ,  0.00057731, -0.01805557, -0.04920933,\n",
       "          0.01568611,  0.03373951,  0.02451613, -0.00145912,\n",
       "         -0.00233524,  0.02100506],\n",
       "        [-0.0321364 ,  0.00057731, -0.01805557, -0.04920933,\n",
       "          0.01568611,  0.03373951,  0.02451613, -0.00145912,\n",
       "         -0.00233524,  0.02100506],\n",
       "        [ 0.0092526 , -0.02192874, -0.01194192, -0.01793882,\n",
       "         -0.01114221, -0.0404622 , -0.00890472, -0.03697114,\n",
       "         -0.0021126 , -0.01113747],\n",
       "        [-0.01017231,  0.02656339, -0.0053785 ,  0.01485676,\n",
       "         -0.04628811, -0.02943697,  0.01910118, -0.03695666,\n",
       "         -0.049348  ,  0.03282143],\n",
       "        [ 0.02089446, -0.01787109,  0.02537313, -0.0162331 ,\n",
       "          0.04354619,  0.02484396,  0.00323634,  0.03249655,\n",
       "          0.01873218,  0.0089404 ],\n",
       "        [ 0.04759506, -0.03754749,  0.03061623,  0.00408214,\n",
       "         -0.03981193, -0.03640523, -0.01236783, -0.04881408,\n",
       "         -0.03165666, -0.00311758]],\n",
       "\n",
       "       [[-0.0321364 ,  0.00057731, -0.01805557, -0.04920933,\n",
       "          0.01568611,  0.03373951,  0.02451613, -0.00145912,\n",
       "         -0.00233524,  0.02100506],\n",
       "        [-0.0321364 ,  0.00057731, -0.01805557, -0.04920933,\n",
       "          0.01568611,  0.03373951,  0.02451613, -0.00145912,\n",
       "         -0.00233524,  0.02100506],\n",
       "        [-0.0321364 ,  0.00057731, -0.01805557, -0.04920933,\n",
       "          0.01568611,  0.03373951,  0.02451613, -0.00145912,\n",
       "         -0.00233524,  0.02100506],\n",
       "        [-0.0321364 ,  0.00057731, -0.01805557, -0.04920933,\n",
       "          0.01568611,  0.03373951,  0.02451613, -0.00145912,\n",
       "         -0.00233524,  0.02100506],\n",
       "        [ 0.0092526 , -0.02192874, -0.01194192, -0.01793882,\n",
       "         -0.01114221, -0.0404622 , -0.00890472, -0.03697114,\n",
       "         -0.0021126 , -0.01113747],\n",
       "        [-0.01017231,  0.02656339, -0.0053785 ,  0.01485676,\n",
       "         -0.04628811, -0.02943697,  0.01910118, -0.03695666,\n",
       "         -0.049348  ,  0.03282143],\n",
       "        [ 0.02089446, -0.01787109,  0.02537313, -0.0162331 ,\n",
       "          0.04354619,  0.02484396,  0.00323634,  0.03249655,\n",
       "          0.01873218,  0.0089404 ],\n",
       "        [ 0.00079559, -0.02476802, -0.02653599,  0.02737779,\n",
       "         -0.04993792, -0.02146097, -0.00834394, -0.01056353,\n",
       "          0.01045066,  0.00501741]],\n",
       "\n",
       "       [[-0.0321364 ,  0.00057731, -0.01805557, -0.04920933,\n",
       "          0.01568611,  0.03373951,  0.02451613, -0.00145912,\n",
       "         -0.00233524,  0.02100506],\n",
       "        [-0.0321364 ,  0.00057731, -0.01805557, -0.04920933,\n",
       "          0.01568611,  0.03373951,  0.02451613, -0.00145912,\n",
       "         -0.00233524,  0.02100506],\n",
       "        [-0.0321364 ,  0.00057731, -0.01805557, -0.04920933,\n",
       "          0.01568611,  0.03373951,  0.02451613, -0.00145912,\n",
       "         -0.00233524,  0.02100506],\n",
       "        [-0.01800779, -0.04861439,  0.02270563,  0.02638248,\n",
       "         -0.033553  , -0.04148569, -0.01611836,  0.04363853,\n",
       "          0.04774973,  0.01838375],\n",
       "        [-0.00492307,  0.01289052,  0.01253137, -0.03831117,\n",
       "          0.03962792, -0.04648396,  0.0488933 ,  0.00943391,\n",
       "         -0.02854595, -0.03447998],\n",
       "        [-0.02515919,  0.04867551, -0.03109013,  0.02481753,\n",
       "          0.00348991,  0.03910038, -0.00642195,  0.00477418,\n",
       "          0.00297349, -0.04011927],\n",
       "        [-0.02620274,  0.00062835,  0.00177918,  0.03354211,\n",
       "         -0.01245587,  0.02379525,  0.01008736, -0.02358261,\n",
       "         -0.00708748, -0.01247804],\n",
       "        [ 0.04728088,  0.03791763, -0.02773098, -0.04381076,\n",
       "         -0.03180949, -0.0140414 ,  0.00427299, -0.01691809,\n",
       "         -0.00162729, -0.04646698]],\n",
       "\n",
       "       [[-0.0321364 ,  0.00057731, -0.01805557, -0.04920933,\n",
       "          0.01568611,  0.03373951,  0.02451613, -0.00145912,\n",
       "         -0.00233524,  0.02100506],\n",
       "        [-0.0321364 ,  0.00057731, -0.01805557, -0.04920933,\n",
       "          0.01568611,  0.03373951,  0.02451613, -0.00145912,\n",
       "         -0.00233524,  0.02100506],\n",
       "        [-0.0321364 ,  0.00057731, -0.01805557, -0.04920933,\n",
       "          0.01568611,  0.03373951,  0.02451613, -0.00145912,\n",
       "         -0.00233524,  0.02100506],\n",
       "        [-0.0321364 ,  0.00057731, -0.01805557, -0.04920933,\n",
       "          0.01568611,  0.03373951,  0.02451613, -0.00145912,\n",
       "         -0.00233524,  0.02100506],\n",
       "        [-0.00492307,  0.01289052,  0.01253137, -0.03831117,\n",
       "          0.03962792, -0.04648396,  0.0488933 ,  0.00943391,\n",
       "         -0.02854595, -0.03447998],\n",
       "        [-0.02712845, -0.02134631,  0.01570893, -0.00411408,\n",
       "          0.03590694, -0.01111913, -0.04579294, -0.0187507 ,\n",
       "          0.02996722, -0.00947358],\n",
       "        [ 0.00131955,  0.02024773, -0.01926481,  0.04684624,\n",
       "          0.03605073, -0.00745523,  0.01708965, -0.00305818,\n",
       "         -0.01577409,  0.01933876],\n",
       "        [-0.02990139,  0.0472587 ,  0.00915997, -0.0119703 ,\n",
       "         -0.01528255, -0.01306551, -0.02956246,  0.0322891 ,\n",
       "         -0.03900355, -0.03631706]],\n",
       "\n",
       "       [[-0.0321364 ,  0.00057731, -0.01805557, -0.04920933,\n",
       "          0.01568611,  0.03373951,  0.02451613, -0.00145912,\n",
       "         -0.00233524,  0.02100506],\n",
       "        [-0.0321364 ,  0.00057731, -0.01805557, -0.04920933,\n",
       "          0.01568611,  0.03373951,  0.02451613, -0.00145912,\n",
       "         -0.00233524,  0.02100506],\n",
       "        [-0.0321364 ,  0.00057731, -0.01805557, -0.04920933,\n",
       "          0.01568611,  0.03373951,  0.02451613, -0.00145912,\n",
       "         -0.00233524,  0.02100506],\n",
       "        [ 0.04727772, -0.04406964, -0.02261407, -0.03608263,\n",
       "          0.01443446,  0.01750407,  0.04119221,  0.03870348,\n",
       "          0.01962198,  0.01918484],\n",
       "        [ 0.03005339, -0.0340911 , -0.0465991 , -0.04242412,\n",
       "          0.03761322, -0.04856128,  0.01722929,  0.02605106,\n",
       "         -0.02923772, -0.00611527],\n",
       "        [ 0.04560239, -0.00604117,  0.04030908, -0.01389563,\n",
       "          0.02563718, -0.01268982, -0.01132941,  0.01322652,\n",
       "          0.04982013,  0.03745062],\n",
       "        [ 0.02911955,  0.02685498, -0.04715472,  0.01831068,\n",
       "          0.03716839, -0.03775783, -0.01266987,  0.00966214,\n",
       "         -0.0395093 ,  0.04604683],\n",
       "        [-0.04401476,  0.02693841,  0.03900794, -0.04189827,\n",
       "         -0.04481132,  0.01472533,  0.02899908, -0.02778598,\n",
       "          0.03803284, -0.01298741]]], dtype=float32)"
      ]
     },
     "execution_count": 44,
     "metadata": {},
     "output_type": "execute_result"
    }
   ],
   "source": [
    "model.predict(embedded_docs)"
   ]
  },
  {
   "cell_type": "code",
   "execution_count": null,
   "metadata": {},
   "outputs": [],
   "source": []
  }
 ],
 "metadata": {
  "kernelspec": {
   "display_name": "Python 3",
   "language": "python",
   "name": "python3"
  },
  "language_info": {
   "codemirror_mode": {
    "name": "ipython",
    "version": 3
   },
   "file_extension": ".py",
   "mimetype": "text/x-python",
   "name": "python",
   "nbconvert_exporter": "python",
   "pygments_lexer": "ipython3",
   "version": "3.12.0"
  }
 },
 "nbformat": 4,
 "nbformat_minor": 2
}
